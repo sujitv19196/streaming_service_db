{
 "metadata": {
  "language_info": {
   "codemirror_mode": {
    "name": "ipython",
    "version": 3
   },
   "file_extension": ".py",
   "mimetype": "text/x-python",
   "name": "python",
   "nbconvert_exporter": "python",
   "pygments_lexer": "ipython3",
   "version": "3.7.6-final"
  },
  "orig_nbformat": 2,
  "kernelspec": {
   "name": "python3",
   "display_name": "Python 3"
  }
 },
 "nbformat": 4,
 "nbformat_minor": 2,
 "cells": [
  {
   "cell_type": "code",
   "execution_count": 298,
   "metadata": {},
   "outputs": [],
   "source": [
    "import pymysql"
   ]
  },
  {
   "cell_type": "code",
   "execution_count": 340,
   "metadata": {},
   "outputs": [],
   "source": []
  },
  {
   "cell_type": "code",
   "execution_count": 341,
   "metadata": {},
   "outputs": [],
   "source": [
    "cursor = db.cursor()"
   ]
  },
  {
   "cell_type": "code",
   "execution_count": 342,
   "metadata": {},
   "outputs": [
    {
     "output_type": "execute_result",
     "data": {
      "text/plain": [
       "0"
      ]
     },
     "metadata": {},
     "execution_count": 342
    }
   ],
   "source": [
    "cursor.execute(\"use movies\")"
   ]
  },
  {
   "cell_type": "code",
   "execution_count": 385,
   "metadata": {},
   "outputs": [
    {
     "output_type": "execute_result",
     "data": {
      "text/plain": [
       "169"
      ]
     },
     "metadata": {},
     "execution_count": 385
    }
   ],
   "source": [
    "cursor.execute('''\n",
    " select n.movie_title, n.genre, count(*)\n",
    "    from user_ratings u join movies n on u.movie_id = n.imdb_title_id \n",
    "    where user_id = 5\n",
    "    group by n.genre\n",
    "    order by count(*) desc \n",
    "''')\n",
    "# cursor.execute(\"describe movies\")"
   ]
  },
  {
   "cell_type": "code",
   "execution_count": 386,
   "metadata": {},
   "outputs": [
    {
     "output_type": "execute_result",
     "data": {
      "text/plain": [
       "(('Little Lord Fauntleroy', 'Drama', 58),\n",
       " ('Mia moglie ha sempre ragione', 'Comedy', 41),\n",
       " (\"L'amore attraverso i secoli\", 'Comedy, Drama', 28),\n",
       " ('La buona terra', 'Drama, Romance', 23),\n",
       " ('Escalofrío', 'Horror', 17),\n",
       " ('Lachende Erben', 'Comedy, Romance', 15),\n",
       " ('Lo scoiattolo', 'Comedy, Drama, Romance', 9),\n",
       " ('I vampiri del sesso', 'Thriller', 9),\n",
       " ('Il mistero dello scoglio rosso', 'Crime, Drama', 9),\n",
       " (\"Liar's Edge\", 'Drama, Thriller', 9),\n",
       " ('Attacco al potere', 'Action, Thriller', 8),\n",
       " ('The Return of Peter Grimm', 'Comedy, Drama, Fantasy', 6),\n",
       " ('Impresa eroica', 'Drama, War', 6),\n",
       " ('Sylvester', 'Drama, Family', 6),\n",
       " ('Melancholia', 'Crime, Drama, Thriller', 6),\n",
       " ('Assault on Precinct 13', 'Action, Crime, Drama', 6),\n",
       " ('Two in the Dark', 'Crime, Drama, Mystery', 5),\n",
       " ('Volo senza ritorno', 'Action, Adventure, Drama', 5),\n",
       " ('She-Devils on Wheels', 'Action, Crime, Thriller', 5),\n",
       " ('Messia selvaggio', 'Biography, Drama', 5),\n",
       " ('Anima persa', 'Drama, Horror, Mystery', 5),\n",
       " ('The Beloved Rogue', 'Adventure, Drama, History', 4),\n",
       " ('Condannato a morte', 'Crime, Drama, Film-Noir', 4),\n",
       " ('Shut My Big Mouth', 'Action, Adventure, Comedy', 4),\n",
       " (\"La maschera e l'incubo\", 'Horror, Thriller', 4),\n",
       " ('Dr. Goldfoot e il nostro agente 00¼', 'Comedy, Sci-Fi', 4),\n",
       " ('Obyasneniye v lyubvi', 'Romance', 4),\n",
       " ('Day of the Panther', 'Action', 4),\n",
       " ('Crimine disorganizzato', 'Action, Comedy, Crime', 4),\n",
       " ('Dangerous Passage', 'Drama, Film-Noir', 3),\n",
       " ('Incubi notturni', 'Drama, Horror', 3),\n",
       " ('Rotation', 'Drama, History', 3),\n",
       " ('Adorabile infedele', 'Biography, Drama, Romance', 3),\n",
       " ('A chi tocca, tocca...!', 'Action, Drama, Thriller', 3),\n",
       " ('18 Again!', 'Comedy, Fantasy, Romance', 3),\n",
       " ('Grasso è bello', 'Comedy, Drama, Family', 3),\n",
       " ('Dark Future', 'Action, Sci-Fi', 3),\n",
       " ('The Boys in Blue', 'Comedy, Family', 3),\n",
       " ('Parisian Love', 'Crime, Drama, Romance', 2),\n",
       " ('War Nurse', 'Drama, Romance, War', 2),\n",
       " ('Occidente in fiamme', 'Drama, History, Romance', 2),\n",
       " ('Flight Lieutenant', 'Action, Drama, Romance', 2),\n",
       " ('Queen of the Amazons', 'Action, Adventure', 2),\n",
       " ('Killer Diller', 'Comedy, Drama, Music', 2),\n",
       " ('Zombies of the Stratosphere', 'Action, Adventure, Sci-Fi', 2),\n",
       " ('Incantesimo', 'Biography, Drama, Music', 2),\n",
       " ('Non voglio morire', 'Biography, Crime, Drama', 2),\n",
       " (\"L'uomo che ingannò la morte\", 'Drama, Horror, Sci-Fi', 2),\n",
       " ('How to Stuff a Wild Bikini', 'Comedy, Musical', 2),\n",
       " (\"Je t'aime, je t'aime - Anatomia di un suicidio\", 'Drama, Sci-Fi', 2),\n",
       " ('La notte dei diavoli', 'Horror, Mystery', 2),\n",
       " ('Il volto dei potenti', 'Drama, Mystery, Romance', 2),\n",
       " ('Le dernier combat', 'Sci-Fi', 2),\n",
       " ('Le nuove avventure di Pippi Calzelunghe', 'Adventure, Family, Fantasy', 2),\n",
       " ('Una squadra alien...ata', 'Comedy, Horror, Sci-Fi', 2),\n",
       " ('Shotgun - Insieme ad ogni costo', 'Action, Comedy, War', 2),\n",
       " ('Tetsuo II: Body Hammer', 'Action, Horror, Sci-Fi', 2),\n",
       " ('Lo sbirro, il boss e la bionda', 'Comedy, Crime, Drama', 2),\n",
       " ('O asymvivastos', 'Drama, Music', 2),\n",
       " ('Khronika pikiruyushchego bombardirovshchika', 'War', 2),\n",
       " ('Legion of the Dead', 'Comedy, Horror', 2),\n",
       " ('Confituur', 'Drama, Comedy', 2),\n",
       " ('Strength and Honour', 'Action, Drama', 2),\n",
       " ('Onni von Sopanen', 'Family', 2),\n",
       " ('Germ', 'Action, Drama, Horror', 2),\n",
       " ('Dragon Ball Z: La battaglia degli Dei', 'Animation, Action, Adventure', 2),\n",
       " ('Where the Road Runs Out', 'Drama, Family, Romance', 2),\n",
       " ('Il segno di Zorro', 'Adventure, Romance, Western', 1),\n",
       " ('The Toll of the Sea', 'Drama, Family, Fantasy', 1),\n",
       " ('Slide, Kelly, Slide', 'Comedy, Sport', 1),\n",
       " ('Lord Byron of Broadway', 'Drama, Music, Romance', 1),\n",
       " ('Kiss Me Again', 'Musical, Romance', 1),\n",
       " ('Captain Calamity', 'Action, Adventure, Crime', 1),\n",
       " ('Il mistero del gatto grigio', 'Crime, Mystery, Drama', 1),\n",
       " ('London by Night', 'Mystery, Romance', 1),\n",
       " ('North of the Rio Grande', 'Action, Adventure, Music', 1),\n",
       " ('Hidden Gold', 'Adventure, Comedy, Western', 1),\n",
       " ('Pancho il messicano', 'Comedy, Western', 1),\n",
       " ('The Rats of Tobruk', 'Action, War, Drama', 1),\n",
       " ('La commedia è finita', 'Comedy, Musical, Romance', 1),\n",
       " ('The Amazing Mr. X', 'Film-Noir, Horror, Thriller', 1),\n",
       " ('It Grows on Trees', 'Comedy, Fantasy', 1),\n",
       " ('Operazione walkiria', 'Drama, History, Thriller', 1),\n",
       " ('Il ragazzo sul delfino', 'Adventure, Drama, Romance', 1),\n",
       " ('The Gambler Wore a Gun', 'Action, Drama, Western', 1),\n",
       " ('Sammy va al sud', 'Adventure', 1),\n",
       " ('Una nave tutta matta', 'Comedy, Drama, War', 1),\n",
       " ('Smoky', 'Western', 1),\n",
       " ('Femmine delle caverne', 'Adventure, Fantasy', 1),\n",
       " ('Due volte Giuda', 'Action, Drama, Mystery', 1),\n",
       " ('The Godson', 'Action, Drama, Crime', 1),\n",
       " ('Corvo Rosso non avrai il mio scalpo!', 'Adventure, Drama, Western', 1),\n",
       " ('Il grande bordello', 'Comedy, Crime, Mystery', 1),\n",
       " ('I duri di Oklahoma', 'Comedy, Drama, Western', 1),\n",
       " (\"E l'alba si macchiò di rosso\", 'Drama, History, War', 1),\n",
       " ('Per amore di Beniamino', 'Adventure, Comedy, Drama', 1),\n",
       " ('Terror on Tour', 'Crime, Horror, Music', 1),\n",
       " ('California Dolls', 'Comedy, Drama, Sport', 1),\n",
       " ('American Dreamer', 'Comedy, Crime, Romance', 1),\n",
       " ('La talpa', 'Mystery, Action, Thriller', 1),\n",
       " ('Roller Blade', 'Action, Comedy, Sci-Fi', 1),\n",
       " (\"Quelli dell'accademia militare\", 'Action, Comedy, Music', 1),\n",
       " ('Mang gwai dai ha', 'Comedy, Crime, Horror', 1),\n",
       " ('Il potere magico - Tremotino', 'Fantasy, Family, Musical', 1),\n",
       " (\"Sfida d'onore\", 'Adventure, Drama, Sport', 1),\n",
       " ('Hong fu qi tian', 'Action, Comedy, Fantasy', 1),\n",
       " ('Á köldum klaka', 'Comedy, Drama, Mystery', 1),\n",
       " ('Lontano da casa', 'Adventure, Family', 1),\n",
       " ('Solo', 'Action, Sci-Fi, Thriller', 1),\n",
       " ('Flubber - Un professore tra le nuvole', 'Comedy, Family, Sci-Fi', 1),\n",
       " ('Nejasná zpráva o konci sveta', 'Fantasy, Mystery', 1),\n",
       " ('Virasat', 'Drama, Family, Musical', 1),\n",
       " ('La cliente', 'Drama, Crime, Romance', 1),\n",
       " ('Nadia e il mistero di Fuzzy', 'Family, Animation', 1),\n",
       " ('Mohabbatein', 'Musical, Drama, Romance', 1),\n",
       " ('Risk', 'Drama, Crime, Thriller', 1),\n",
       " ('Dust', 'Drama, Romance, Western', 1),\n",
       " ('The Discovery of Heaven', 'Drama, Fantasy', 1),\n",
       " ('Ah Foo', 'Drama, Romance, Sport', 1),\n",
       " ('Shaheed', 'Biography, Drama, History', 1),\n",
       " ('Aiuto, sono un ragazzo...!', 'Family, Fantasy', 1),\n",
       " ('Ren tou dou fu tang', 'Crime, Horror', 1),\n",
       " ('The Creature of the Sunny Side Up Trailer Park',\n",
       "  'Comedy, Horror, Mystery',\n",
       "  1),\n",
       " ('La virgen de la lujuria', 'Drama, Fantasy, Romance', 1),\n",
       " ('The Secret Wing', 'Adventure, Drama, Fantasy', 1),\n",
       " ('Aapko Pehle Bhi Kahin Dekha Hai', 'Action, Comedy, Drama', 1),\n",
       " ('Bar, El Chino', 'Drama, Music, Comedy', 1),\n",
       " ('The Dream-Quest of Unknown Kadath', 'Adventure, Animation, Fantasy', 1),\n",
       " ('Confess - La verità.. è in rete', 'Thriller, Drama', 1),\n",
       " ('Sky High - Scuola di superpoteri', 'Adventure, Comedy, Family', 1),\n",
       " ('Buitenspel', 'Drama, Fantasy, Mystery', 1),\n",
       " ('Zombies - La vendetta degli innocenti', 'Drama, Fantasy, Horror', 1),\n",
       " ('La guerra di Charlie Wilson', 'Biography, Comedy, Drama', 1),\n",
       " ('Atlas Shrugged: Part I', 'Drama, Mystery, Sci-Fi', 1),\n",
       " ('$9.99', 'Animation, Drama, Fantasy', 1),\n",
       " ('Jack Brooks: Monster Slayer', 'Action, Comedy, Horror', 1),\n",
       " ('Alvin Superstar', 'Animation, Comedy, Family', 1),\n",
       " (\"Survival of the Dead - L'isola dei sopravvissuti\",\n",
       "  'Comedy, Drama, Horror',\n",
       "  1),\n",
       " ('Shoot the Duke', 'Action, Comedy, Thriller', 1),\n",
       " ('Hansel & Gretel - Cacciatori di streghe', 'Action, Fantasy, Horror', 1),\n",
       " ('Circle of Eight', 'Horror, Mystery, Sci-Fi', 1),\n",
       " ('Menculik Miyabi', 'Action, Comedy, Romance', 1),\n",
       " ('Werner - Eiskalt!', 'Animation, Comedy', 1),\n",
       " ('Main Krishna Hoon', 'Animation, Family, Musical', 1),\n",
       " ('Trash', 'Adventure, Crime, Drama', 1),\n",
       " ('Choi-jong-byeong-gi hwal', 'Action, History, War', 1),\n",
       " ('Dwae-ji-ui wang', 'Animation, Drama, Thriller', 1),\n",
       " ('Metallica Through the Never', 'Music', 1),\n",
       " ('Shark Week', 'Action, Adventure, Horror', 1),\n",
       " ('Haunter', 'Fantasy, Horror, Mystery', 1),\n",
       " (\"The Demon's Rook\", 'Adventure, Fantasy, Horror', 1),\n",
       " ('Suddenly', 'Crime, Thriller', 1),\n",
       " ('Bajatey Raho', 'Comedy, Drama, Thriller', 1),\n",
       " ('Mystic Blade', 'Action, Drama, Fantasy', 1),\n",
       " ('The Martial Arts Kid', 'Action, Family', 1),\n",
       " ('Yellowbird', 'Animation, Adventure, Comedy', 1),\n",
       " ('Lo spazio che ci unisce', 'Drama, Romance, Sci-Fi', 1),\n",
       " ('Hana to Arisu satsujin jiken', 'Animation, Drama', 1),\n",
       " ('We Are Monsters', 'Drama, Horror, Thriller', 1),\n",
       " ('The Evil Within', 'Animation, Horror', 1),\n",
       " ('Master', 'Action, Crime', 1),\n",
       " ('Irada', 'Drama, Mystery, Thriller', 1),\n",
       " ('Sarajin bam', 'Crime, Mystery, Thriller', 1),\n",
       " ('Against the Night', 'Horror, Mystery, Thriller', 1),\n",
       " ('Paolo, apostolo di Cristo', 'Adventure, Biography, Drama', 1),\n",
       " ('Jelgava 94', 'Adventure, Drama', 1),\n",
       " ('Tanki', 'Action, Comedy, History', 1),\n",
       " ('Serce nie sluga', 'Comedy, Family, Romance', 1),\n",
       " ('Top Gunner', 'Action, War', 1))"
      ]
     },
     "metadata": {},
     "execution_count": 386
    }
   ],
   "source": [
    "cursor.fetchall()"
   ]
  },
  {
   "cell_type": "code",
   "execution_count": 197,
   "metadata": {},
   "outputs": [
    {
     "output_type": "execute_result",
     "data": {
      "text/plain": [
       "0"
      ]
     },
     "metadata": {},
     "execution_count": 197
    }
   ],
   "source": [
    "cursor.execute(\"drop procedure TEST\")"
   ]
  },
  {
   "cell_type": "code",
   "execution_count": 122,
   "metadata": {},
   "outputs": [
    {
     "output_type": "execute_result",
     "data": {
      "text/plain": [
       "()"
      ]
     },
     "metadata": {},
     "execution_count": 122
    }
   ],
   "source": [
    "cursor.execute(\"select * from platform_region\")\n",
    "cursor.fetchall()"
   ]
  },
  {
   "cell_type": "code",
   "execution_count": 235,
   "metadata": {},
   "outputs": [],
   "source": [
    "a1 = '''\n",
    "CREATE PROCEDURE most_genre(IN userID INT, OUT genre VARCHAR(255))\n",
    "BEGIN\n",
    "    select n.genre into genre  \n",
    "    from user_ratings u join movies n on u.movie_id = n.imdb_title_id \n",
    "    where user_id = userID\n",
    "    GROUP BY n.genre\n",
    "    order by count(*) desc\n",
    "    limit 1;\n",
    "END\n",
    "'''"
   ]
  },
  {
   "cell_type": "code",
   "execution_count": 245,
   "metadata": {},
   "outputs": [],
   "source": [
    "test = '''\n",
    "CREATE PROCEDURE test (IN userID INT)\n",
    "BEGIN \n",
    "    call most_genre(userID, @genre);\n",
    "    select @genre;\n",
    "END \n",
    "'''"
   ]
  },
  {
   "cell_type": "code",
   "execution_count": 333,
   "metadata": {},
   "outputs": [],
   "source": [
    "ml = '''\n",
    "CREATE PROCEDURE movie_list (IN userID INT)\n",
    "BEGIN \n",
    "    call most_genre(userID, @genre);\n",
    "    SELECT distinct m.Movie_title, m.genre\n",
    "    FROM movies m join user_ratings u on m.imdb_title_id = u.movie_id\n",
    "    WHERE genre = @genre AND m.movie_title not in(select Movie_title from user_ratings where user_id = userID)\n",
    "    order by m.avg_vote\n",
    "    limit 5;\n",
    "END \n",
    "'''"
   ]
  },
  {
   "cell_type": "code",
   "execution_count": 334,
   "metadata": {},
   "outputs": [
    {
     "output_type": "execute_result",
     "data": {
      "text/plain": [
       "0"
      ]
     },
     "metadata": {},
     "execution_count": 334
    }
   ],
   "source": [
    "cursor.execute(\"drop procedure movie_list\")"
   ]
  },
  {
   "cell_type": "code",
   "execution_count": 335,
   "metadata": {},
   "outputs": [
    {
     "output_type": "execute_result",
     "data": {
      "text/plain": [
       "0"
      ]
     },
     "metadata": {},
     "execution_count": 335
    }
   ],
   "source": [
    "cursor.execute(ml)"
   ]
  },
  {
   "cell_type": "code",
   "execution_count": 336,
   "metadata": {},
   "outputs": [
    {
     "output_type": "execute_result",
     "data": {
      "text/plain": [
       "5"
      ]
     },
     "metadata": {},
     "execution_count": 336
    }
   ],
   "source": [
    "cursor.execute(\"call movie_list(0)\")"
   ]
  },
  {
   "cell_type": "code",
   "execution_count": 337,
   "metadata": {},
   "outputs": [
    {
     "output_type": "execute_result",
     "data": {
      "text/plain": [
       "(('Elment az öszöd', 'Drama'),\n",
       " ('De overgave', 'Drama'),\n",
       " ('Die Österreichische Methode', 'Drama'),\n",
       " ('Karma, Confessions and Holi', 'Drama'),\n",
       " ('Molaghat ba tooti', 'Drama'))"
      ]
     },
     "metadata": {},
     "execution_count": 337
    }
   ],
   "source": [
    "cursor.fetchall()"
   ]
  },
  {
   "cell_type": "code",
   "execution_count": 338,
   "metadata": {},
   "outputs": [],
   "source": [
    "cursor.connection.commit()"
   ]
  },
  {
   "cell_type": "code",
   "execution_count": 387,
   "metadata": {},
   "outputs": [],
   "source": [
    "cursor.close()\n",
    "db.close()"
   ]
  },
  {
   "cell_type": "code",
   "execution_count": null,
   "metadata": {},
   "outputs": [],
   "source": []
  }
 ]
}